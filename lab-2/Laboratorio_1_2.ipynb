{
  "nbformat": 4,
  "nbformat_minor": 0,
  "metadata": {
    "colab": {
      "provenance": []
    },
    "kernelspec": {
      "name": "python3",
      "display_name": "Python 3"
    },
    "language_info": {
      "name": "python"
    }
  },
  "cells": [
    {
      "cell_type": "markdown",
      "source": [
        "# **Laboratorio 1 parte 2: Introducción a Git**\n",
        "**Facultad de ingeniería, departamento de Ingeniería Biomédica, Universidad de los Andes**\\\n",
        "**IBIO-2440 Programación científica**"
      ],
      "metadata": {
        "id": "_4lVjZ3ugCga"
      }
    },
    {
      "cell_type": "markdown",
      "source": [
        "**Nombres de los integrantes**\n",
        "\n",
        "\n",
        "1.   Nombre integrante 1\n",
        "2.   Nombre integrante 2\n",
        "\n",
        "**Número del grupo**\n",
        "\n",
        "*Escribir el número del grupo*"
      ],
      "metadata": {
        "id": "Qr0Bc8gYgEV6"
      }
    },
    {
      "cell_type": "markdown",
      "source": [
        "\n",
        "En esta parte se busca la familiarización con los aspectos básicos de Git, como los comandos básicos y viajar en la linea temporal de un proyecto. **Este laboratorio se debe realizar solo en el computador de uno de los integrantes**. Primero, acceder al siguiente link para ver la guía de todos los comantos de Git:\n",
        "\n",
        "https://bluuweb.github.io/tutorial-github/01-fundamentos/#enlaces\n",
        "\n",
        "\n",
        "1.   Lo primero es crear un nuevo notebook donde se desea trabajar el proyecto. Para esto, hacer click en *Archivo* y luego en *Nuevo notebook*. Se abrirá una nueva pestaña con un notebook vacío, al cual se debe cambiar el nombre por \"*Lab1_Grupo_(Número del grupo)*\"\n",
        "2.   Dentro de este archivo se va a escribir un código que grafique la superficie de una función escalar de dos dimensiones cualquiera, creado por la inteligencia artificial de ChatGPT, para esto, ingresar al siguiente link:\n",
        "\n",
        "  https://chat.openai.com/\n",
        "\n",
        "  Allí se pedirá resgistrarse con una cuenta google. Porterior a eso, en la pate inferior, sobre el espacio de chat, pedirle al bot que les genere un código en Python de lo solicitado anteriormente, el cual deben copiar y pegar sobre el archivo creado. Si se corre el código, se mostrará un plot de una superficie de la función deseada. \n",
        "\n",
        "3. Ahora se usarán los comandos Git para viajar entre las versiones del código. Lo primero es importar la carpeta donde se encuentra el arhivo del código, para esto, correr las siguientes lineas. Cuando se corran, se les pedirá acceso al Drive, el cual se debe permitir.\n"
      ],
      "metadata": {
        "id": "k31DK9ZqaCJQ"
      }
    },
    {
      "cell_type": "code",
      "execution_count": 1,
      "metadata": {
        "id": "__an3lfoZ_0b",
        "colab": {
          "base_uri": "https://localhost:8080/"
        },
        "outputId": "d61572db-f96c-474a-b3c4-4a9d79558636"
      },
      "outputs": [
        {
          "output_type": "stream",
          "name": "stdout",
          "text": [
            "Mounted at /content/gdrive\n",
            "/content/gdrive/My Drive/Colab Notebooks\n"
          ]
        }
      ],
      "source": [
        "from google.colab import drive\n",
        "drive.mount('/content/gdrive')\n",
        "%cd /content/gdrive/My Drive/Colab Notebooks"
      ]
    },
    {
      "cell_type": "markdown",
      "source": [
        "4. Ahora, una vez importada la carpeta, se debe inicializar el repositorio local Git, para esto use el comando adecuado. Si se hace correctamente, debería salir un mensaje que indique que se ha inizializado un reposotorio Git vacío."
      ],
      "metadata": {
        "id": "VBb-SfgAb7q0"
      }
    },
    {
      "cell_type": "code",
      "source": [],
      "metadata": {
        "id": "UcGy8-G2b9H3"
      },
      "execution_count": 17,
      "outputs": []
    },
    {
      "cell_type": "markdown",
      "source": [
        "5. Ahora se debe asignar un nombre de usuario y un email para poder continuar con el proceso. Ejecutar los comandos correspondientes para la creación de un usuario, los de solo un integrante."
      ],
      "metadata": {
        "id": "1r1k9Zw2b9Uj"
      }
    },
    {
      "cell_type": "code",
      "source": [],
      "metadata": {
        "id": "lOesblVycAGN"
      },
      "execution_count": 17,
      "outputs": []
    },
    {
      "cell_type": "markdown",
      "source": [
        "6. Con lo anterior, ya se puede añadir el archivo al área temporal, para esto, usar el comando correcto para agregar solo el archivo creado anteriormente y no todos los que se encuentran en Drive. (Ayuda: en vez de punto usar el nombre del archivo)"
      ],
      "metadata": {
        "id": "kz5zEe4cb_dJ"
      }
    },
    {
      "cell_type": "code",
      "source": [],
      "metadata": {
        "id": "iTbpoU_KcDWj"
      },
      "execution_count": 17,
      "outputs": []
    },
    {
      "cell_type": "markdown",
      "source": [
        "7. Escribir el comando para realizar el commit con un mensaje que se asocie al evento y que permita recordar de qué se trata. Si se hace correctamente, se notificará con un mensaje que se ha cambiado un archivo con una insersión en el respositorio (Evitar el uso de tildes)."
      ],
      "metadata": {
        "id": "puE7zoNTcDqR"
      }
    },
    {
      "cell_type": "code",
      "source": [],
      "metadata": {
        "id": "4_EcQOuScF3z"
      },
      "execution_count": 17,
      "outputs": []
    },
    {
      "cell_type": "markdown",
      "source": [
        "8. Escribir el comando que les permita verificar el código del commit y el mensaje que le asignaron."
      ],
      "metadata": {
        "id": "hj8Kf-_qcGKv"
      }
    },
    {
      "cell_type": "code",
      "source": [],
      "metadata": {
        "id": "aB4lg2qYcIQr"
      },
      "execution_count": 17,
      "outputs": []
    },
    {
      "cell_type": "markdown",
      "source": [
        "9. Ahora se debe clonar el proyecto, para esto, usar el comando para crear una nueva rama con el nombre: *Dev*"
      ],
      "metadata": {
        "id": "X7-XNbkUEkSh"
      }
    },
    {
      "cell_type": "code",
      "source": [],
      "metadata": {
        "id": "dG1-6FKQEkwd"
      },
      "execution_count": null,
      "outputs": []
    },
    {
      "cell_type": "markdown",
      "source": [
        "10. El comando anterior solo crea la rama, pero aún se encuentran en la rama master. Ejecutar el comando que permita moverse a la nueva rama creada. Adicionalmente, ejecutar el comando que permita verificar que se movieron a dicha rama."
      ],
      "metadata": {
        "id": "kCSvV0RbFBsa"
      }
    },
    {
      "cell_type": "code",
      "source": [],
      "metadata": {
        "id": "L-rVca1cFNBN"
      },
      "execution_count": null,
      "outputs": []
    },
    {
      "cell_type": "markdown",
      "source": [
        "11. Ahora se debe modificar el archivo con el cual se está trabajando, para esto, cambiar la función que se graficó en un inicio por cualquier otra que sea también de dos dimensiones. Correr el código y guardar los cambios.\n",
        "\n",
        "12. Ejecutar el comando que permita ver si realmente se guardaron las modificaciones en el código, es decir, si el archivo sufrió alguna modificación. Si todo va bien, saldrá una \"M\" en el nombre del archivo."
      ],
      "metadata": {
        "id": "sLOz80xqcIoS"
      }
    },
    {
      "cell_type": "code",
      "source": [],
      "metadata": {
        "id": "EBftQGq6cOL_"
      },
      "execution_count": 17,
      "outputs": []
    },
    {
      "cell_type": "markdown",
      "source": [
        "13. Ahora, volver a realizar los pasos de adición y commit con un nuevo mensaje. También, verificar que se registró el nuevo commit con su respectivo código asociado."
      ],
      "metadata": {
        "id": "LyF9W8pKcOaX"
      }
    },
    {
      "cell_type": "code",
      "source": [],
      "metadata": {
        "id": "bW2uFshgcQ6s"
      },
      "execution_count": 17,
      "outputs": []
    },
    {
      "cell_type": "markdown",
      "source": [
        "14. Finalmente, ejecutar el comando para volver a la versión del archivo que tenía la función inicial usando el código del commit asociado. Si todo funciona bien, el archivo vovlerá a la función inicial si refrescan la página."
      ],
      "metadata": {
        "id": "er6rZTn_cRJL"
      }
    },
    {
      "cell_type": "code",
      "source": [],
      "metadata": {
        "id": "U5sQKkKKfzTX"
      },
      "execution_count": 17,
      "outputs": []
    },
    {
      "cell_type": "markdown",
      "source": [
        "15. Luego, volver de nuevo a la versión modificada."
      ],
      "metadata": {
        "id": "lxl6tZksfz5z"
      }
    },
    {
      "cell_type": "code",
      "source": [],
      "metadata": {
        "id": "RkcVDTPXChHD"
      },
      "execution_count": 17,
      "outputs": []
    },
    {
      "cell_type": "markdown",
      "source": [
        "16. Con la versión modificada se desea hacer un merge para agregarle la modificación a la rama master. Para esto, pasar primero a la rama principal y luego ejecutar el comando que permita hacer el merge."
      ],
      "metadata": {
        "id": "IrJorFQnF2jn"
      }
    },
    {
      "cell_type": "code",
      "source": [],
      "metadata": {
        "id": "jYNuAX94F28T"
      },
      "execution_count": null,
      "outputs": []
    },
    {
      "cell_type": "markdown",
      "source": [
        "17. Ahora, como el proyecto se modificó, se debe indicar que es una neuva versión. Para esto, ejecutar el comando que les permita crear un tag con el nombre: *Nueva version*, luego, ejecutar el comando que muestre la información de dicho tag."
      ],
      "metadata": {
        "id": "2b2ejDJiGJXJ"
      }
    },
    {
      "cell_type": "code",
      "source": [],
      "metadata": {
        "id": "PG9MKwznG5vP"
      },
      "execution_count": null,
      "outputs": []
    },
    {
      "cell_type": "markdown",
      "source": [
        "18. Ejecutar la siguiente linea de código, tomarle captura al resultado y subirla en donde se indica."
      ],
      "metadata": {
        "id": "JQ-V-MyRf12J"
      }
    },
    {
      "cell_type": "code",
      "source": [
        "!git log --oneline --decorate --all --graph"
      ],
      "metadata": {
        "id": "h2b5CLPNHFyG"
      },
      "execution_count": null,
      "outputs": []
    },
    {
      "cell_type": "markdown",
      "source": [
        "**Subir captura acá**"
      ],
      "metadata": {
        "id": "HFp0GpuIHIP0"
      }
    },
    {
      "cell_type": "markdown",
      "source": [
        "19. Ahora, responder las siguientes preguntas con respuestas cortas:\n",
        "\n",
        "\n",
        "\n",
        "*   ¿Cuál es la ventaja de usar Git y Github y no otros repositorios como Google Drive o Onedrive?\n",
        "\n",
        "  **Respuesta:**\n",
        "\n",
        "*   ¿Por qué es importante conocer el uso de Git y no solo el uso remoto con Github?\n",
        "\n",
        "  **Respuesta:**\n",
        "\n",
        "*   ¿En qué caso o casos se presentan conflictos al realizar un merge?\n",
        "\n",
        "  **Respuesta:**"
      ],
      "metadata": {
        "id": "7j0t-LLiEcp0"
      }
    },
    {
      "cell_type": "markdown",
      "source": [
        "# **Rúbrica de calificación**\n",
        "\n",
        "*   Los comandos ejecutados fueron los correctos.\n",
        "*   Los commits tienen un mensaje coherente con la acción realizada.\n",
        "*   Se hizo uso de ChatGPT correctamente.\n",
        "*   Las preguntas fueron respondidas de forma adecuada.\n",
        "\n"
      ],
      "metadata": {
        "id": "iOZfA_pkJ7e6"
      }
    }
  ]
}