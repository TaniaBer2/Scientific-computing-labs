{
 "cells": [
  {
   "attachments": {},
   "cell_type": "markdown",
   "metadata": {},
   "source": [
    "f(x) = 5x1 + 4x2\n",
    "x2 ≤ 2\n",
    "x1 + 1 ≤ X2\n",
    "6x1 + 4X2 ≤ 24\n",
    "x1 + 2X2 ≤ 2\n",
    "0 ≤ x1\n",
    "0 ≤ x2"
   ]
  },
  {
   "cell_type": "code",
   "execution_count": null,
   "metadata": {},
   "outputs": [
    {
     "ename": "",
     "evalue": "",
     "output_type": "error",
     "traceback": [
      "\u001b[1;31mRunning cells with 'c:\\Program Files\\Python311\\python.exe' requires the ipykernel package.\n",
      "\u001b[1;31mRun the following command to install 'ipykernel' into the Python environment. \n",
      "\u001b[1;31mCommand: '\"c:/Program Files/Python311/python.exe\" -m pip install ipykernel -U --user --force-reinstall'"
     ]
    }
   ],
   "source": [
    "import scipy.optimize as op\n",
    "import numpy as np\n",
    "\n",
    "A = np.array([[6,4],[1,2],[0,1]])\n",
    "b = np.array([-24,-2,-2])\n",
    "c = np.array([5, 4])\n",
    "\n",
    "ret_linprog = op.linprog(c, A_ub=A, b_ub=b,bounds=((0,None),(0,None)), method=\"simplex\")\n",
    "print(ret_linprog)"
   ]
  },
  {
   "cell_type": "code",
   "execution_count": null,
   "metadata": {},
   "outputs": [],
   "source": []
  }
 ],
 "metadata": {
  "kernelspec": {
   "display_name": "Python 3",
   "language": "python",
   "name": "python3"
  },
  "language_info": {
   "name": "python",
   "version": "3.11.2"
  },
  "orig_nbformat": 4,
  "vscode": {
   "interpreter": {
    "hash": "5238573367df39f7286bb46f9ff5f08f63a01a80960060ce41e3c79b190280fa"
   }
  }
 },
 "nbformat": 4,
 "nbformat_minor": 2
}
