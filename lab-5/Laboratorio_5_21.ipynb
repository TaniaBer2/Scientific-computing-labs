{
  "cells": [
    {
      "cell_type": "markdown",
      "metadata": {
        "id": "aiVyYM0UZ9Cg"
      },
      "source": [
        "# **Laboratorio 5: Planteamiento y solución de problemas de optimización**\n",
        "**Facultad de ingeniería, departamento de Ingeniería Biomédica, Universidad de los Andes**\\\n",
        "**IBIO-2440 Programación científica**"
      ]
    },
    {
      "attachments": {},
      "cell_type": "markdown",
      "metadata": {
        "id": "aTJOo3lnar5X"
      },
      "source": [
        "**Nombres de los integrantes**\n",
        "\n",
        "\n",
        "1.   Jaime Torres\n",
        "2.   Tania Bermudez\n",
        "\n",
        "**Número del grupo**\n",
        "\n",
        "Grupo 4"
      ]
    },
    {
      "cell_type": "markdown",
      "metadata": {
        "id": "OambcLreVN_P"
      },
      "source": [
        "Los problemas de optimización se consituyen de seis aspectos esenciales: variables de decisión, función objetivo, región factible, restricciones, criterios de optimalidad y métodos de solución tanto analíticos como numéricos. En general, un problema de optimización se resuelve mediante métodos numéricos debido a la complejidad matemática que conlleva modelar un problema real. La mayoría de estos métodos ya vienen implementados en librerías asociadas a lenguajes de programación, por lo que, en un principio, solucionar problemas de optimización genéricos consiste en usar una librería de optimización adecuada. En Python, existen múltiples librerias de optimización. Sin embargo, la más usada y desarrollada es SciPy, la cual no solo permite resolver problemas de optimización, sino también problemas de cálculo, procesaminto de señales e imágenes, álgebra lineal, entre muchos otros. \n",
        "\n",
        "El plantamiento de un problema de optimización se puede dividir en dos grandes ramas; problemas lineales y no lineales, los cuales también se conocen como: programación lineal y programación no lineal. En este sentido, este laboratorio consiste en plantear, analizar y solucionar un problema lineal. Para esto, es necesaria una breve introducción teórica. Un problema de optimización se modela matemáticamente mediante una función objetivo, la cual debe mapear un espacio de $n$ dimensiones y arrojar un valor escalar, es decir, sea $f:\\mathbb{R}^n \\rightarrow \\mathbb{R}$, luego, esta función de desea minimizar o maximizar dependiendo del contexto del problema. Encontrar un mínimo de una función, sea local o global, en general modela un problema real, debido a que esta función está sujeta a restricciones. Estas últimas se plantean con ecuaciones o inecuaciones adicionales asociadas a las variables independientes. En el caso de la programación lineal, se plantean mediante un sistema de ecuaciones o inecuaciones, de la forma:\n",
        "\n",
        "\\begin{align*}\n",
        "  Ax \\leq B\n",
        "\\end{align*}\n",
        "\n",
        "Donde $A$ es la matriz de coeficientes, $x$ el vector de variables y $B$ el vector de restricciones. Luego, un problema de programación lineal se plantea de la forma:\n",
        "\n",
        "\\begin{align*}\n",
        "  \\min_x f(x)\n",
        "\\end{align*}\n",
        "\n",
        "o\n",
        "\n",
        "\\begin{align*}\n",
        "  \\max_x f(x)\n",
        "\\end{align*}\n",
        "\n",
        "Sujeto a\n",
        "\n",
        "\\begin{align*}\n",
        "  Ax \\leq B\n",
        "\\end{align*}\n",
        "\n",
        "Además, en general, se define $x \\geq 0$"
      ]
    },
    {
      "cell_type": "markdown",
      "metadata": {
        "id": "mXzu0AXFn90N"
      },
      "source": [
        "# **Programación lineal**\n",
        "\n",
        "En programación lineal, debido a su simplicidad, existen varias formas de resolver un problema de optimización. En este caso se va a trabajar con dos, una con una interpretación gráfica y otra con el uso de la función *linprog* de la librería *optimize* de *spicy*. El problema es el siguiente:\n",
        "\n",
        "Un paciente ha sufrido un accidente que le impidió realizar ejercicio durante un año, por lo que, inevitablemente, subió de peso considerablemente. Este paciente acude al nutricionista con el objetivo de retomar el ejercicio y volver a su estado físico de antes. El paciente indica que tiene afición por tres tipos de ejercicio: montar bicicleta, ir al gimnasio y nadar, con los cuales puede consumir 300, 600 y 900 por hora calorías respectivamente. Dado que lleva mucho tiempo sin realizar ejercicio y aparte se ha recuperado de una lesión, debe cumplir ciertas restricciones:\n",
        "\n",
        "- No puede realizar más de 4 horas de ejercicio al día\n",
        "- El paciente tiene preferecia por el gimnasio, por lo que quiere gastar al menos un tercio del tiempo a la semana en este ejercicio\n",
        "- Se le recomienda montar bibicleta al menos una hora al día para acelerar la recuperación de la lesión\n",
        "\n",
        "Usted desea maximizar el consumo de calorias por semana.\n",
        "\n",
        "1. Plantee el problema de optimización como un problema de programación lineal\n"
      ]
    },
    {
      "cell_type": "code",
      "execution_count": 12,
      "metadata": {},
      "outputs": [],
      "source": [
        "import scipy.optimize as op\n",
        "import numpy as np\n",
        "\n",
        "actividades = [300,600,900]\n",
        "# (300*(x))+(600*(y))+(900*(z))\n",
        "# x1 >= 7\n",
        "# x2 >= 1/3*(x1+x2+x3)\n",
        "# 0 >= x1/2 -x2 +1/2x3\n",
        "# x3 >= 0\n",
        "# x*y*z <= 4\n",
        "\n",
        "A = np.array([[1,0,0],[1/2,-1,1/2],[-1,-1,-1], [0,0,1]])\n",
        "b = np.array([7,0,-1,0])\n",
        "c = np.array([300, 600, 900])\n"
      ]
    },
    {
      "cell_type": "markdown",
      "metadata": {
        "id": "4sZcmfUdPYvv"
      },
      "source": [
        "***Escriba aquí la función objetivo, las variables de decisión con su significado y las restricciones con sus descripciones asociadas***\n",
        "\n",
        "\n",
        "\n"
      ]
    },
    {
      "cell_type": "markdown",
      "metadata": {
        "id": "xMp-7hZzQT-W"
      },
      "source": [
        "2. Resuelva el problema usando la función *linprog* de la librería optimize con método simplex"
      ]
    },
    {
      "cell_type": "code",
      "execution_count": 14,
      "metadata": {
        "id": "3IbTzblgQbNd"
      },
      "outputs": [
        {
          "name": "stdout",
          "output_type": "stream",
          "text": [
            " message: Optimization terminated successfully.\n",
            " success: True\n",
            "  status: 0\n",
            "     fun: 600.0\n",
            "       x: [ 1.000e+00  5.000e-01  0.000e+00]\n",
            "     nit: 4\n"
          ]
        },
        {
          "name": "stderr",
          "output_type": "stream",
          "text": [
            "C:\\Users\\tania\\AppData\\Local\\Temp\\ipykernel_29560\\676529852.py:1: DeprecationWarning: `method='simplex'` is deprecated and will be removed in SciPy 1.11.0. Please use one of the HiGHS solvers (e.g. `method='highs'`) in new code.\n",
            "  ret_linprog = op.linprog(c, A_ub=A, b_ub=b,bounds=((1,None),(0,None),(0,None)), method=\"simplex\")\n"
          ]
        }
      ],
      "source": [
        "ret_linprog = op.linprog(c, A_ub=A, b_ub=b,bounds=((1,None),(0,None),(0,None)), method=\"simplex\")\n",
        "print(ret_linprog)\n"
      ]
    },
    {
      "cell_type": "markdown",
      "metadata": {
        "id": "WFR808tlAwMZ"
      },
      "source": [
        "3. Resuelva el problema pero ahora usando la función *minimize* de la librería *optimize*. Esta función requiere una condición inicial, escójala de forma que cumpla las restricciones.\n",
        "\n"
      ]
    },
    {
      "cell_type": "code",
      "execution_count": 16,
      "metadata": {
        "id": "nmV-dXyiJJD1"
      },
      "outputs": [
        {
          "name": "stdout",
          "output_type": "stream",
          "text": [
            "  message: Desired error not necessarily achieved due to precision loss.\n",
            "  success: False\n",
            "   status: 2\n",
            "      fun: -33595465423580.58\n",
            "        x: [ 8.000e+09 -1.600e+10 -2.400e+10]\n",
            "      nit: 2\n",
            "      jac: [-3.000e+02  6.000e+02  9.000e+02]\n",
            " hess_inv: [[-2.512e+06  5.023e+06  7.534e+06]\n",
            "            [ 5.023e+06 -1.004e+07 -1.507e+07]\n",
            "            [ 7.534e+06 -1.507e+07 -2.260e+07]]\n",
            "     nfev: 516\n",
            "     njev: 126\n"
          ]
        }
      ],
      "source": [
        "def funcion(parametros):\n",
        "    x1, x2, x3 = parametros\n",
        "    return -(300*x1 -600*x2 -900*x3) \n",
        "\n",
        "condicionInical = [1, 1, 1] \n",
        "min = op.minimize(funcion,condicionInical)\n",
        "print(min)"
      ]
    },
    {
      "cell_type": "markdown",
      "metadata": {
        "id": "lJpZpf0JDWgc"
      },
      "source": [
        "4. Verifique que la solución cumple las restricciones"
      ]
    },
    {
      "cell_type": "code",
      "execution_count": 22,
      "metadata": {
        "id": "sovlHpd2DotA"
      },
      "outputs": [
        {
          "name": "stdout",
          "output_type": "stream",
          "text": [
            "realiza al menos 1 hora de bicicleta todos los dias\n",
            "no cumple la condicon de realizar al menos 1/3 de gimnacio a la semana\n",
            "No realizar mas de 4 horas de ejercicio dario\n"
          ]
        }
      ],
      "source": [
        " minn = [ 8.000e+09, -1.600e+10, -2.400e+10]\n",
        "if minn[0] >= 7:\n",
        "    print(\"realiza al menos 1 hora de bicicleta todos los dias\") \n",
        "else:\n",
        "    print(\"no cumple la condicon de montar bicicleta\")\n",
        "\n",
        "if 3*minn[1] >= minn[1] +minn[0]+ minn[2]:\n",
        "    print(\"realiza al menos 1/3 de gimnacio a la semana\") \n",
        "else:\n",
        "    print(\"no cumple la condicon de realizar al menos 1/3 de gimnacio a la semana\") \n",
        "\n",
        "if minn[1] +minn[0]+ minn[2] <= 28:\n",
        "    print(\"No realizar mas de 4 horas de ejercicio dario\") \n",
        "else:\n",
        "    print(\"no cumple la condicon de no realizar mas de 4 horas de ejercicio dario\") "
      ]
    },
    {
      "cell_type": "markdown",
      "metadata": {
        "id": "HBwUjRjNDpGT"
      },
      "source": [
        "5. Si hay más puntos que cumple las restricciones, encuéntrelos, si no, indique que no hay más.\n",
        "\n",
        "Ayuda: el número de puntos que cumplen las restriciones se calcula mediante la fórmula:\n",
        "\n",
        "\\begin{align*}\n",
        "  \\frac{n!}{m!(n-m)!}\n",
        "\\end{align*}\n",
        "\n",
        "Donde $n$ es el número de variables y $m$ el número de restricciones"
      ]
    },
    {
      "cell_type": "code",
      "execution_count": 28,
      "metadata": {
        "id": "Fl_E4d65DyXA"
      },
      "outputs": [
        {
          "name": "stdout",
          "output_type": "stream",
          "text": [
            "1.0\n"
          ]
        }
      ],
      "source": [
        "def fac(numero):\n",
        "     if numero == 0 or numero == 1:\n",
        "         return 1\n",
        "     else:\n",
        "         return numero * fac(numero-1)\n",
        "     \n",
        "puntos = (fac(3))/(fac(3)*fac(3-3))\n",
        "print(puntos)\n",
        "\n",
        "#solo hay un punto que cumple las restricciones. Es decir no hay as puntos que cumplan las restricciones"
      ]
    },
    {
      "cell_type": "markdown",
      "metadata": {
        "id": "nCk19LSXGL6o"
      },
      "source": [
        "6. Compare el método por *linprog* y *minimize*. Verifique el número de iteraciones, ¿cuál es el más preciso?, ¿cuál es más eficiente?"
      ]
    },
    {
      "cell_type": "code",
      "execution_count": null,
      "metadata": {
        "id": "f23_NFaXGq5X"
      },
      "outputs": [],
      "source": [
        "# respuesta abajo"
      ]
    },
    {
      "attachments": {},
      "cell_type": "markdown",
      "metadata": {},
      "source": [
        "es mas efciente el metodo de minimize. El metodo mencionado anteriormente hizo un total de 2 iteraciones, mientras que el metodo de linprong realizo un toal de 4 iteraciones. por lo que podemos decir que el mas eficiente y fue el metodo de Minimize. Sin embargo, el metodo linprong es el mas preciso.  "
      ]
    }
  ],
  "metadata": {
    "colab": {
      "provenance": []
    },
    "kernelspec": {
      "display_name": "Python 3",
      "language": "python",
      "name": "python3"
    },
    "language_info": {
      "codemirror_mode": {
        "name": "ipython",
        "version": 3
      },
      "file_extension": ".py",
      "mimetype": "text/x-python",
      "name": "python",
      "nbconvert_exporter": "python",
      "pygments_lexer": "ipython3",
      "version": "3.10.9"
    },
    "vscode": {
      "interpreter": {
        "hash": "e7370f93d1d0cde622a1f8e1c04877d8463912d04d973331ad4851f04de6915a"
      }
    }
  },
  "nbformat": 4,
  "nbformat_minor": 0
}
