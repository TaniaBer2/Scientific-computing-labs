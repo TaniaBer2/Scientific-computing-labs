{
  "cells": [
    {
      "cell_type": "markdown",
      "metadata": {
        "id": "aiVyYM0UZ9Cg"
      },
      "source": [
        "# **Laboratorio 5: Planteamiento y solución de problemas de optimización**\n",
        "**Facultad de ingeniería, departamento de Ingeniería Biomédica, Universidad de los Andes**\\\n",
        "**IBIO-2440 Programación científica**"
      ]
    },
    {
      "attachments": {},
      "cell_type": "markdown",
      "metadata": {
        "id": "aTJOo3lnar5X"
      },
      "source": [
        "**Nombres de los integrantes**\n",
        "\n",
        "\n",
        "1.   Jaime Torres\n",
        "2.   Tania Bermudez\n",
        "\n",
        "**Número del grupo**\n",
        "\n",
        "Grupo 4"
      ]
    },
    {
      "cell_type": "markdown",
      "metadata": {
        "id": "OambcLreVN_P"
      },
      "source": [
        "Los problemas de optimización se consituyen de seis aspectos esenciales: variables de decisión, función objetivo, región factible, restricciones, criterios de optimalidad y métodos de solución tanto analíticos como numéricos. En general, un problema de optimización se resuelve mediante métodos numéricos debido a la complejidad matemática que conlleva modelar un problema real. La mayoría de estos métodos ya vienen implementados en librerías asociadas a lenguajes de programación, por lo que, en un principio, solucionar problemas de optimización genéricos consiste en usar una librería de optimización adecuada. En Python, existen múltiples librerias de optimización. Sin embargo, la más usada y desarrollada es SciPy, la cual no solo permite resolver problemas de optimización, sino también problemas de cálculo, procesaminto de señales e imágenes, álgebra lineal, entre muchos otros. \n",
        "\n",
        "El plantamiento de un problema de optimización se puede dividir en dos grandes ramas; problemas lineales y no lineales, los cuales también se conocen como: programación lineal y programación no lineal. En este sentido, este laboratorio consiste en plantear, analizar y solucionar un problema lineal. Para esto, es necesaria una breve introducción teórica. Un problema de optimización se modela matemáticamente mediante una función objetivo, la cual debe mapear un espacio de $n$ dimensiones y arrojar un valor escalar, es decir, sea $f:\\mathbb{R}^n \\rightarrow \\mathbb{R}$, luego, esta función de desea minimizar o maximizar dependiendo del contexto del problema. Encontrar un mínimo de una función, sea local o global, en general modela un problema real, debido a que esta función está sujeta a restricciones. Estas últimas se plantean con ecuaciones o inecuaciones adicionales asociadas a las variables independientes. En el caso de la programación lineal, se plantean mediante un sistema de ecuaciones o inecuaciones, de la forma:\n",
        "\n",
        "\\begin{align*}\n",
        "  Ax \\leq B\n",
        "\\end{align*}\n",
        "\n",
        "Donde $A$ es la matriz de coeficientes, $x$ el vector de variables y $B$ el vector de restricciones. Luego, un problema de programación lineal se plantea de la forma:\n",
        "\n",
        "\\begin{align*}\n",
        "  \\min_x f(x)\n",
        "\\end{align*}\n",
        "\n",
        "o\n",
        "\n",
        "\\begin{align*}\n",
        "  \\max_x f(x)\n",
        "\\end{align*}\n",
        "\n",
        "Sujeto a\n",
        "\n",
        "\\begin{align*}\n",
        "  Ax \\leq B\n",
        "\\end{align*}\n",
        "\n",
        "Además, en general, se define $x \\geq 0$"
      ]
    },
    {
      "cell_type": "markdown",
      "metadata": {
        "id": "mXzu0AXFn90N"
      },
      "source": [
        "# **Programación lineal**\n",
        "\n",
        "En programación lineal, debido a su simplicidad, existen varias formas de resolver un problema de optimización. En este caso se va a trabajar con dos, una con una interpretación gráfica y otra con el uso de la función *linprog* de la librería *optimize* de *spicy*. El problema es el siguiente:\n",
        "\n",
        "Un paciente ha sufrido un accidente que le impidió realizar ejercicio durante un año, por lo que, inevitablemente, subió de peso considerablemente. Este paciente acude al nutricionista con el objetivo de retomar el ejercicio y volver a su estado físico de antes. El paciente indica que tiene afición por tres tipos de ejercicio: montar bicicleta, ir al gimnasio y nadar, con los cuales puede consumir 300, 600 y 900 por hora calorías respectivamente. Dado que lleva mucho tiempo sin realizar ejercicio y aparte se ha recuperado de una lesión, debe cumplir ciertas restricciones:\n",
        "\n",
        "- No puede realizar más de 4 horas de ejercicio al día\n",
        "- El paciente tiene preferecia por el gimnasio, por lo que quiere gastar al menos un tercio del tiempo a la semana en este ejercicio\n",
        "- Se le recomienda montar bibicleta al menos una hora al día para acelerar la recuperación de la lesión\n",
        "\n",
        "Usted desea maximizar el consumo de calorias por semana.\n",
        "\n",
        "1. Plantee el problema de optimización como un problema de programación lineal\n"
      ]
    },
    {
      "cell_type": "code",
      "execution_count": 1,
      "metadata": {},
      "outputs": [],
      "source": [
        "#diccionario de actividades, nos servirá para resolver el problema.\n",
        "#muestra los costos en calorias de una hora.\n",
        "actividades = {\n",
        "    \"bicicleta\":300,\n",
        "    \"gimnasio\":600,\n",
        "    \"nadar\":900\n",
        "}"
      ]
    },
    {
      "cell_type": "markdown",
      "metadata": {
        "id": "4sZcmfUdPYvv"
      },
      "source": [
        "***Escriba aquí la función objetivo, las variables de decisión con su significado y las restricciones con sus descripciones asociadas***\n",
        "\n",
        "\n",
        "\n"
      ]
    },
    {
      "cell_type": "markdown",
      "metadata": {
        "id": "xMp-7hZzQT-W"
      },
      "source": [
        "2. Resuelva el problema usando la función *linprog* de la librería optimize con método simplex"
      ]
    },
    {
      "cell_type": "code",
      "execution_count": null,
      "metadata": {
        "id": "3IbTzblgQbNd"
      },
      "outputs": [],
      "source": []
    },
    {
      "cell_type": "markdown",
      "metadata": {
        "id": "WFR808tlAwMZ"
      },
      "source": [
        "3. Resuelva el problema pero ahora usando la función *minimize* de la librería *optimize*. Esta función requiere una condición inicial, escójala de forma que cumpla las restricciones.\n",
        "\n"
      ]
    },
    {
      "cell_type": "code",
      "execution_count": null,
      "metadata": {
        "id": "nmV-dXyiJJD1"
      },
      "outputs": [],
      "source": []
    },
    {
      "cell_type": "markdown",
      "metadata": {
        "id": "lJpZpf0JDWgc"
      },
      "source": [
        "4. Verifique que la solución cumple las restricciones"
      ]
    },
    {
      "cell_type": "code",
      "execution_count": null,
      "metadata": {
        "id": "sovlHpd2DotA"
      },
      "outputs": [],
      "source": []
    },
    {
      "cell_type": "markdown",
      "metadata": {
        "id": "HBwUjRjNDpGT"
      },
      "source": [
        "5. Si hay más puntos que cumple las restricciones, encuéntrelos, si no, indique que no hay más.\n",
        "\n",
        "Ayuda: el número de puntos que cumplen las restriciones se calcula mediante la fórmula:\n",
        "\n",
        "\\begin{align*}\n",
        "  \\frac{n!}{m!(n-m)!}\n",
        "\\end{align*}\n",
        "\n",
        "Donde $n$ es el número de variables y $m$ el número de restricciones"
      ]
    },
    {
      "cell_type": "code",
      "execution_count": null,
      "metadata": {
        "id": "Fl_E4d65DyXA"
      },
      "outputs": [],
      "source": []
    },
    {
      "cell_type": "markdown",
      "metadata": {
        "id": "nCk19LSXGL6o"
      },
      "source": [
        "6. Compare el método por *linprog* y *minimize*. Verifique el número de iteraciones, ¿cuál es el más preciso?, ¿cuál es más eficiente?"
      ]
    },
    {
      "cell_type": "code",
      "execution_count": null,
      "metadata": {
        "id": "f23_NFaXGq5X"
      },
      "outputs": [],
      "source": []
    }
  ],
  "metadata": {
    "colab": {
      "provenance": []
    },
    "kernelspec": {
      "display_name": "Python 3",
      "language": "python",
      "name": "python3"
    },
    "language_info": {
      "codemirror_mode": {
        "name": "ipython",
        "version": 3
      },
      "file_extension": ".py",
      "mimetype": "text/x-python",
      "name": "python",
      "nbconvert_exporter": "python",
      "pygments_lexer": "ipython3",
      "version": "3.10.9"
    },
    "vscode": {
      "interpreter": {
        "hash": "e7370f93d1d0cde622a1f8e1c04877d8463912d04d973331ad4851f04de6915a"
      }
    }
  },
  "nbformat": 4,
  "nbformat_minor": 0
}
