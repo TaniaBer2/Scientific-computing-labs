{
  "cells": [
    {
      "cell_type": "markdown",
      "metadata": {
        "id": "NvnkAha2Wjsa"
      },
      "source": [
        "# **Laboratorio 1 parte 1: Manejo de Github y chatGPT**\n",
        "**Facultad de ingeniería, departamento de Ingeniería Biomédica, Universidad de los Andes**\\\n",
        "**IBIO-2440 Programación científica**"
      ]
    },
    {
      "attachments": {},
      "cell_type": "markdown",
      "metadata": {
        "id": "mPcqihmgaplt"
      },
      "source": [
        "**Nombres de los integrantes**\n",
        "\n",
        "\n",
        "1.   Jaime Andres Torres\n",
        "2.   Tania Camila Bermudez\n",
        "\n",
        "**Número del grupo**\n",
        "\n",
        "*Escribir el número del grupo*\n"
      ]
    },
    {
      "cell_type": "markdown",
      "metadata": {
        "id": "glR8_0bbJFEv"
      },
      "source": [
        "# **1. ChatGPT**\n",
        "\n",
        "Como se explicó en la teoría, ChatGPT es una herramienta capaz de casi cualquier cosa. Para comenzar a usarla se va a jugar una trivia sobre Python para principiantes, es decir, con preguntas sencillas. Luego, deben perdirle al bot que genere una trivia para jugar entre los integrantes del grupo que conste de cinco preguntas sobre Python sencillas y con cuatro respuestas posibles para obtener un puntaje final. Luego responder la preguntas en un solo mensaje de todos los integrantes. Tomar una captura del mensaje del bot donde indique el puntaje obtenido por cada uno y subirla en el siguiente cuadro de texto."
      ]
    },
    {
      "cell_type": "markdown",
      "metadata": {
        "id": "mDdMWySXMB6N"
      },
      "source": [
        "**Subir imagen acá**"
      ]
    },
    {
      "attachments": {},
      "cell_type": "markdown",
      "metadata": {},
      "source": [
        "![png del código](cap.png)"
      ]
    },
    {
      "attachments": {},
      "cell_type": "markdown",
      "metadata": {},
      "source": [
        "## Código"
      ]
    },
    {
      "cell_type": "code",
      "execution_count": null,
      "metadata": {},
      "outputs": [],
      "source": [
        "import random\n",
        "\n",
        "def run_quiz():\n",
        "    score = 0\n",
        "    questions = [\n",
        "        {\n",
        "            \"question\": \"What is the correct way to comment in Python?\",\n",
        "            \"options\": [\n",
        "                \"# This is a comment\",\n",
        "                \"// This is a comment\",\n",
        "                \"/* This is a comment */\",\n",
        "                \"''' This is a comment '''\"\n",
        "            ],\n",
        "            \"answer\": \"# This is a comment\"\n",
        "        },\n",
        "        {\n",
        "            \"question\": \"What is the result of the following expression: 2 + 3 * 4\",\n",
        "            \"options\": [\n",
        "                \"14\",\n",
        "                \"20\",\n",
        "                \"26\",\n",
        "                \"32\"\n",
        "            ],\n",
        "            \"answer\": \"14\"\n",
        "        },\n",
        "        {\n",
        "            \"question\": \"What is the data type of the following value: 'hello'\",\n",
        "            \"options\": [\n",
        "                \"int\",\n",
        "                \"float\",\n",
        "                \"str\",\n",
        "                \"bool\"\n",
        "            ],\n",
        "            \"answer\": \"str\"\n",
        "        },\n",
        "        {\n",
        "            \"question\": \"What is the value of x after the following code is executed: x = 3 * 4 + 5\",\n",
        "            \"options\": [\n",
        "                \"17\",\n",
        "                \"22\",\n",
        "                \"23\",\n",
        "                \"27\"\n",
        "            ],\n",
        "            \"answer\": \"17\"\n",
        "        },\n",
        "        {\n",
        "            \"question\": \"What is the value of x after the following code is executed: x = 3 + 4 * 5\",\n",
        "            \"options\": [\n",
        "                \"23\",\n",
        "                \"27\",\n",
        "                \"35\",\n",
        "                \"43\"\n",
        "            ],\n",
        "            \"answer\": \"23\"\n",
        "        }\n",
        "    ]\n",
        "    random.shuffle(questions)\n",
        "    for i, question in enumerate(questions):\n",
        "        print(f\"Question {i + 1}: {question['question']}\")\n",
        "        for j, option in enumerate(question[\"options\"]):\n",
        "            print(f\"{j + 1}. {option}\")\n",
        "        user_answer = input(\"Enter the number of your answer: \")\n",
        "        if question[\"options\"][int(user_answer) - 1] == question[\"answer\"]:\n",
        "            print(\"Correct!\")\n",
        "            score += 1\n",
        "        else:\n",
        "            print(\"Incorrect.\")\n",
        "    print(f\"Your score is {score} out of {len(questions)}.\")\n",
        "\n",
        "if __name__ == \"__main__\":\n",
        "    run_quiz()\n"
      ]
    },
    {
      "cell_type": "markdown",
      "metadata": {
        "id": "wCVw-PCJ0hvX"
      },
      "source": [
        "# **2. Manejo de Github**\n",
        "\n",
        "Antes de aprender del uso de Git mediante comandos, se desea usar la forma remota de un repositorio mediante la platagorma Github. Acá, se podrá asignar un tag al archivo, cambiar de rama, fusionar ramas y realizar push y pull de los commits.\n",
        "\n",
        "1. Lo primero que ambos integrantes del grupo creen una cuenta en Github, para esto, entrar al siguiente link:\n",
        "\n",
        "  https://github.com/\n",
        "\n",
        "  y registrarse.\n",
        "\n",
        "2. Ahora, se debe crear un nuevo respositorio, **eso lo debe hacer solo uno de los integrantes**. Para eso, hacer click en el \"+\" sobre la parte superior derecha:\n",
        "\n",
        "  ![1.JPG](data:image/jpeg;base64,/9j/4AAQSkZJRgABAQEAYABgAAD/4RDiRXhpZgAATU0AKgAAAAgABAE7AAIAAAAIAAAISodpAAQAAAABAAAIUpydAAEAAAAQAAAQyuocAAcAAAgMAAAAPgAAAAAc6gAAAAgAAAAAAAAAAAAAAAAAAAAAAAAAAAAAAAAAAAAAAAAAAAAAAAAAAAAAAAAAAAAAAAAAAAAAAAAAAAAAAAAAAAAAAAAAAAAAAAAAAAAAAAAAAAAAAAAAAAAAAAAAAAAAAAAAAAAAAAAAAAAAAAAAAAAAAAAAAAAAAAAAAAAAAAAAAAAAAAAAAAAAAAAAAAAAAAAAAAAAAAAAAAAAAAAAAAAAAAAAAAAAAAAAAAAAAAAAAAAAAAAAAAAAAAAAAAAAAAAAAAAAAAAAAAAAAAAAAAAAAAAAAAAAAAAAAAAAAAAAAAAAAAAAAAAAAAAAAAAAAAAAAAAAAAAAAAAAAAAAAAAAAAAAAAAAAAAAAAAAAAAAAAAAAAAAAAAAAAAAAAAAAAAAAAAAAAAAAAAAAAAAAAAAAAAAAAAAAAAAAAAAAAAAAAAAAAAAAAAAAAAAAAAAAAAAAAAAAAAAAAAAAAAAAAAAAAAAAAAAAAAAAAAAAAAAAAAAAAAAAAAAAAAAAAAAAAAAAAAAAAAAAAAAAAAAAAAAAAAAAAAAAAAAAAAAAAAAAAAAAAAAAAAAAAAAAAAAAAAAAAAAAAAAAAAAAAAAAAAAAAAAAAAAAAAAAAAAAAAAAAAAAAAAAAAAAAAAAAAAAAAAAAAAAAAAAAAAAAAAAAAAAAAAAAAAAAAAAAAAAAAAAAAAAAAAAAAAAAAAAAAAAAAAAAAAAAAAAAAAAAAAAAAAAAAAAAAAAAAAAAAAAAAAAAAAAAAAAAAAAAAAAAAAAAAAAAAAAAAAAAAAAAAAAAAAAAAAAAAAAAAAAAAAAAAAAAAAAAAAAAAAAAAAAAAAAAAAAAAAAAAAAAAAAAAAAAAAAAAAAAAAAAAAAAAAAAAAAAAAAAAAAAAAAAAAAAAAAAAAAAAAAAAAAAAAAAAAAAAAAAAAAAAAAAAAAAAAAAAAAAAAAAAAAAAAAAAAAAAAAAAAAAAAAAAAAAAAAAAAAAAAAAAAAAAAAAAAAAAAAAAAAAAAAAAAAAAAAAAAAAAAAAAAAAAAAAAAAAAAAAAAAAAAAAAAAAAAAAAAAAAAAAAAAAAAAAAAAAAAAAAAAAAAAAAAAAAAAAAAAAAAAAAAAAAAAAAAAAAAAAAAAAAAAAAAAAAAAAAAAAAAAAAAAAAAAAAAAAAAAAAAAAAAAAAAAAAAAAAAAAAAAAAAAAAAAAAAAAAAAAAAAAAAAAAAAAAAAAAAAAAAAAAAAAAAAAAAAAAAAAAAAAAAAAAAAAAAAAAAAAAAAAAAAAAAAAAAAAAAAAAAAAAAAAAAAAAAAAAAAAAAAAAAAAAAAAAAAAAAAAAAAAAAAAAAAAAAAAAAAAAAAAAAAAAAAAAAAAAAAAAAAAAAAAAAAAAAAAAAAAAAAAAAAAAAAAAAAAAAAAAAAAAAAAAAAAAAAAAAAAAAAAAAAAAAAAAAAAAAAAAAAAAAAAAAAAAAAAAAAAAAAAAAAAAAAAAAAAAAAAAAAAAAAAAAAAAAAAAAAAAAAAAAAAAAAAAAAAAAAAAAAAAAAAAAAAAAAAAAAAAAAAAAAAAAAAAAAAAAAAAAAAAAAAAAAAAAAAAAAAAAAAAAAAAAAAAAAAAAAAAAAAAAAAAAAAAAAAAAAAAAAAAAAAAAAAAAAAAAAAAAAAAAAAAAAAAAAAAAAAAAAAAAAAAAAAAAAAAAAAAAAAAAAAAAAAAAAAAAAAAAAAAAAAAAAAAAAAAAAAAAAAAAAAAAAAAAAAAAAAAAAAAAAAAAAAAAAAAAAAAAAAAAAAAAAAAAAAAAAAAAAAAAAAAAAAAAAAAAAAAAAAAAAAAAAAAAAAAAAAAAAAAAAAAAAAAAAAAAAAAAAAAAAAAAAAAAAAAAAAAAAAAAAAAAAAAAAAAAAAAAAAAAAAAAAAAAAAAAAAAAAAAAAAAAAAAAAAAAAAAAAAAAAAAAAAAAAAAAAAAAAAAAAAAAAAAAAAAAAAAAAAAAAAAAAAAAAAAAAAAAAAAAAAAAAAAAAAAAAAAAAAAAAAAAAAAAAAAAAAAAAAAAAAAAAAAAAAAAAAAAAAAAAAAAAAAAAAAAAAAAAAAAAAAAAAAAAAAAAAAAAAAAAAAAAAAAAAAAAAAAAAAAAAAAAAAAAAAAAAAAAAAAAAAAAAAAAAAAAAAAAAAAAAAAAAAAAAAAAAAAAAAAAAAAAAAAAAAAAAAAAAAAAAAAAAAAAAAAAAAAAAAAAAAAAAAAAAAAAAAAAAAAAAAAAAAAAAAAAAAAAAAAAAAAAAAAAAAAAAAAAAAAAAAAAAAAAAAAAAAAAAAAAAAAAAAAAAAAAAAAAAAAAAAAAAAAAAAAAAAAAAAAAAAAAAAAAAAAAAAAAAAAAAAAAAAAAAAAAAAAAAAAAAAAAAAAAAAAAAAAAAAAAAAAAAAAAAAAAAAAAAAAAAAAAAAAAAAAAAAAAAAAAAAAAAAAAAAAAAAAAAAAAAAAAAAAAAAAAAAAAAAAAAAAAAAAAAAAAAAAAAAAAAAAAAAAAAAAAAAAAAAAAAAAAAAAAAAAAAAAAAAAAAAAAAAAAAAAAAAAAAAAAAAAAAAAAAAAAAAAAAAAAAAAAAAAAAAAAAAAAAAAAAAAAAAAAAAAAAAAAAAAAAAAAAAAAAAAAAAAAAAAAAAAAAAAAAAAAAAAAAAAAAAAAAAAAAAAAAAAAAAAAAAAAAAAAAAAAAAAAAAAAAAAAAAAAAAAAAAAAAAAAAAAAAAAAAAAAAAAAAAAAAAAAAAAAAAAAFVzdWFyaW8AAAWQAwACAAAAFAAAEKCQBAACAAAAFAAAELSSkQACAAAAAzM2AACSkgACAAAAAzM2AADqHAAHAAAIDAAACJQAAAAAHOoAAAAIAAAAAAAAAAAAAAAAAAAAAAAAAAAAAAAAAAAAAAAAAAAAAAAAAAAAAAAAAAAAAAAAAAAAAAAAAAAAAAAAAAAAAAAAAAAAAAAAAAAAAAAAAAAAAAAAAAAAAAAAAAAAAAAAAAAAAAAAAAAAAAAAAAAAAAAAAAAAAAAAAAAAAAAAAAAAAAAAAAAAAAAAAAAAAAAAAAAAAAAAAAAAAAAAAAAAAAAAAAAAAAAAAAAAAAAAAAAAAAAAAAAAAAAAAAAAAAAAAAAAAAAAAAAAAAAAAAAAAAAAAAAAAAAAAAAAAAAAAAAAAAAAAAAAAAAAAAAAAAAAAAAAAAAAAAAAAAAAAAAAAAAAAAAAAAAAAAAAAAAAAAAAAAAAAAAAAAAAAAAAAAAAAAAAAAAAAAAAAAAAAAAAAAAAAAAAAAAAAAAAAAAAAAAAAAAAAAAAAAAAAAAAAAAAAAAAAAAAAAAAAAAAAAAAAAAAAAAAAAAAAAAAAAAAAAAAAAAAAAAAAAAAAAAAAAAAAAAAAAAAAAAAAAAAAAAAAAAAAAAAAAAAAAAAAAAAAAAAAAAAAAAAAAAAAAAAAAAAAAAAAAAAAAAAAAAAAAAAAAAAAAAAAAAAAAAAAAAAAAAAAAAAAAAAAAAAAAAAAAAAAAAAAAAAAAAAAAAAAAAAAAAAAAAAAAAAAAAAAAAAAAAAAAAAAAAAAAAAAAAAAAAAAAAAAAAAAAAAAAAAAAAAAAAAAAAAAAAAAAAAAAAAAAAAAAAAAAAAAAAAAAAAAAAAAAAAAAAAAAAAAAAAAAAAAAAAAAAAAAAAAAAAAAAAAAAAAAAAAAAAAAAAAAAAAAAAAAAAAAAAAAAAAAAAAAAAAAAAAAAAAAAAAAAAAAAAAAAAAAAAAAAAAAAAAAAAAAAAAAAAAAAAAAAAAAAAAAAAAAAAAAAAAAAAAAAAAAAAAAAAAAAAAAAAAAAAAAAAAAAAAAAAAAAAAAAAAAAAAAAAAAAAAAAAAAAAAAAAAAAAAAAAAAAAAAAAAAAAAAAAAAAAAAAAAAAAAAAAAAAAAAAAAAAAAAAAAAAAAAAAAAAAAAAAAAAAAAAAAAAAAAAAAAAAAAAAAAAAAAAAAAAAAAAAAAAAAAAAAAAAAAAAAAAAAAAAAAAAAAAAAAAAAAAAAAAAAAAAAAAAAAAAAAAAAAAAAAAAAAAAAAAAAAAAAAAAAAAAAAAAAAAAAAAAAAAAAAAAAAAAAAAAAAAAAAAAAAAAAAAAAAAAAAAAAAAAAAAAAAAAAAAAAAAAAAAAAAAAAAAAAAAAAAAAAAAAAAAAAAAAAAAAAAAAAAAAAAAAAAAAAAAAAAAAAAAAAAAAAAAAAAAAAAAAAAAAAAAAAAAAAAAAAAAAAAAAAAAAAAAAAAAAAAAAAAAAAAAAAAAAAAAAAAAAAAAAAAAAAAAAAAAAAAAAAAAAAAAAAAAAAAAAAAAAAAAAAAAAAAAAAAAAAAAAAAAAAAAAAAAAAAAAAAAAAAAAAAAAAAAAAAAAAAAAAAAAAAAAAAAAAAAAAAAAAAAAAAAAAAAAAAAAAAAAAAAAAAAAAAAAAAAAAAAAAAAAAAAAAAAAAAAAAAAAAAAAAAAAAAAAAAAAAAAAAAAAAAAAAAAAAAAAAAAAAAAAAAAAAAAAAAAAAAAAAAAAAAAAAAAAAAAAAAAAAAAAAAAAAAAAAAAAAAAAAAAAAAAAAAAAAAAAAAAAAAAAAAAAAAAAAAAAAAAAAAAAAAAAAAAAAAAAAAAAAAAAAAAAAAAAAAAAAAAAAAAAAAAAAAAAAAAAAAAAAAAAAAAAAAAAAAAAAAAAAAAAAAAAAAAAAAAAAAAAAAAAAAAAAAAAAAAAAAAAAAAAAAAAAAAAAAAAAAAAAAAAAAAAAAAAAAAAAAAAAAAAAAAAAAAAAAAAAAAAAAAAAAAAAAAAAAAAAAAAAAAAAAAAAAAAAAAAAAAAAAAAAAAAAAAAAAAAAAAAAAAAAAAAAAAAAAAAAAAAAAAAAAAAAAAAAAAAAAAAAAAAAAAAAAAAAAAAAAAAAAAAAAAAAAAAAAAAAAAAAAAAAAAAAAAAAAAAAAAAAAAAAAAAAAAAAAAAAAAAAAAAAAAAAAAAAAAAAAAAAAAAAAAAAAAAAAAAAAAAAAAAAAAAAAAAAAAAAAAAAAAAAAAAAAAAAAAAAAAAAAAAAAAAAAAAAAAAAAAAAAAAAAAAAAAAAAAAAAAAAAAAAAAAAAAAAAAAAAAAAAAAAAAAAAAAAAAAAAAAAAAAAAAAAAAAAAAAAAAAAAAAAAAAAAAAAAAAAAAAAAAAAAAAAAAAAAAAAAAAAAAAAAAAAAAAAAAAAAAAAAAAAAAAAAAAAAAAAAAAAAAAAAAAAAAAAAAAAAAAAAAAAAAAAAAAAAAAAAAAAAAAAAAAAAAAAAAAAAAAAAAAAAAAAAAAAAAAAAAAAAAAAAAAAAAAAAAAAAAAAAAAAAAAAAAAAAAAAAAAAAAAAAAAAAAAAAAAAAAAAAAAAAAAAAAAAAAAAAAAAAAAAAAAAAAAAAAAAAAAAAAAAAAAAAAAAAAAAAAAAAAAAAAAAAAAAAAAAAAAAAAAAAAAAAAAAAAAAAAAAAAAAAAAAAAAAAAAAAAAAAAAAAAAAAAAAAAAAAAAAAAAAAAAAAAAAAAAAAAAAAAAAAAAAAAAAAAAAAAAAAAAAAAAAAAAAAAAAAAAAAAAAAAAAAAAAAAAAAAAAAAAAAAAAAAAAAAAAAAAAAAAAAAAAAAyMDIzOjAxOjIwIDAyOjQ2OjA5ADIwMjM6MDE6MjAgMDI6NDY6MDkAAABVAHMAdQBhAHIAaQBvAAAA/+ELGmh0dHA6Ly9ucy5hZG9iZS5jb20veGFwLzEuMC8APD94cGFja2V0IGJlZ2luPSfvu78nIGlkPSdXNU0wTXBDZWhpSHpyZVN6TlRjemtjOWQnPz4NCjx4OnhtcG1ldGEgeG1sbnM6eD0iYWRvYmU6bnM6bWV0YS8iPjxyZGY6UkRGIHhtbG5zOnJkZj0iaHR0cDovL3d3dy53My5vcmcvMTk5OS8wMi8yMi1yZGYtc3ludGF4LW5zIyI+PHJkZjpEZXNjcmlwdGlvbiByZGY6YWJvdXQ9InV1aWQ6ZmFmNWJkZDUtYmEzZC0xMWRhLWFkMzEtZDMzZDc1MTgyZjFiIiB4bWxuczpkYz0iaHR0cDovL3B1cmwub3JnL2RjL2VsZW1lbnRzLzEuMS8iLz48cmRmOkRlc2NyaXB0aW9uIHJkZjphYm91dD0idXVpZDpmYWY1YmRkNS1iYTNkLTExZGEtYWQzMS1kMzNkNzUxODJmMWIiIHhtbG5zOnhtcD0iaHR0cDovL25zLmFkb2JlLmNvbS94YXAvMS4wLyI+PHhtcDpDcmVhdGVEYXRlPjIwMjMtMDEtMjBUMDI6NDY6MDkuMzY0PC94bXA6Q3JlYXRlRGF0ZT48L3JkZjpEZXNjcmlwdGlvbj48cmRmOkRlc2NyaXB0aW9uIHJkZjphYm91dD0idXVpZDpmYWY1YmRkNS1iYTNkLTExZGEtYWQzMS1kMzNkNzUxODJmMWIiIHhtbG5zOmRjPSJodHRwOi8vcHVybC5vcmcvZGMvZWxlbWVudHMvMS4xLyI+PGRjOmNyZWF0b3I+PHJkZjpTZXEgeG1sbnM6cmRmPSJodHRwOi8vd3d3LnczLm9yZy8xOTk5LzAyLzIyLXJkZi1zeW50YXgtbnMjIj48cmRmOmxpPlVzdWFyaW88L3JkZjpsaT48L3JkZjpTZXE+DQoJCQk8L2RjOmNyZWF0b3I+PC9yZGY6RGVzY3JpcHRpb24+PC9yZGY6UkRGPjwveDp4bXBtZXRhPg0KICAgICAgICAgICAgICAgICAgICAgICAgICAgICAgICAgICAgICAgICAgICAgICAgICAgICAgICAgICAgICAgICAgICAgICAgICAgICAgICAgICAgICAgICAgICAgICAgICAgIAogICAgICAgICAgICAgICAgICAgICAgICAgICAgICAgICAgICAgICAgICAgICAgICAgICAgICAgICAgICAgICAgICAgICAgICAgICAgICAgICAgICAgICAgICAgICAgICAgICAgCiAgICAgICAgICAgICAgICAgICAgICAgICAgICAgICAgICAgICAgICAgICAgICAgICAgICAgICAgICAgICAgICAgICAgICAgICAgICAgICAgICAgICAgICAgICAgICAgICAgICAKICAgICAgICAgICAgICAgICAgICAgICAgICAgICAgICAgICAgICAgICAgICAgICAgICAgICAgICAgICAgICAgICAgICAgICAgICAgICAgICAgICAgICAgICAgICAgICAgICAgIAogICAgICAgICAgICAgICAgICAgICAgICAgICAgICAgICAgICAgICAgICAgICAgICAgICAgICAgICAgICAgICAgICAgICAgICAgICAgICAgICAgICAgICAgICAgICAgICAgICAgCiAgICAgICAgICAgICAgICAgICAgICAgICAgICAgICAgICAgICAgICAgICAgICAgICAgICAgICAgICAgICAgICAgICAgICAgICAgICAgICAgICAgICAgICAgICAgICAgICAgICAKICAgICAgICAgICAgICAgICAgICAgICAgICAgICAgICAgICAgICAgICAgICAgICAgICAgICAgICAgICAgICAgICAgICAgICAgICAgICAgICAgICAgICAgICAgICAgICAgICAgIAogICAgICAgICAgICAgICAgICAgICAgICAgICAgICAgICAgICAgICAgICAgICAgICAgICAgICAgICAgICAgICAgICAgICAgICAgICAgICAgICAgICAgICAgICAgICAgICAgICAgCiAgICAgICAgICAgICAgICAgICAgICAgICAgICAgICAgICAgICAgICAgICAgICAgICAgICAgICAgICAgICAgICAgICAgICAgICAgICAgICAgICAgICAgICAgICAgICAgICAgICAKICAgICAgICAgICAgICAgICAgICAgICAgICAgICAgICAgICAgICAgICAgICAgICAgICAgICAgICAgICAgICAgICAgICAgICAgICAgICAgICAgICAgICAgICAgICAgICAgICAgIAogICAgICAgICAgICAgICAgICAgICAgICAgICAgICAgICAgICAgICAgICAgICAgICAgICAgICAgICAgICAgICAgICAgICAgICAgICAgICAgICAgICAgICAgICAgICAgICAgICAgCiAgICAgICAgICAgICAgICAgICAgICAgICAgICAgICAgICAgICAgICAgICAgICAgICAgICAgICAgICAgICAgICAgICAgICAgICAgICAgICAgICAgICAgICAgICAgICAgICAgICAKICAgICAgICAgICAgICAgICAgICAgICAgICAgICAgICAgICAgICAgICAgICAgICAgICAgICAgICAgICAgICAgICAgICAgICAgICAgICAgICAgICAgICAgICAgICAgICAgICAgIAogICAgICAgICAgICAgICAgICAgICAgICAgICAgICAgICAgICAgICAgICAgICAgICAgICAgICAgICAgICAgICAgICAgICAgICAgICAgICAgICAgICAgICAgICAgICAgICAgICAgCiAgICAgICAgICAgICAgICAgICAgICAgICAgICAgICAgICAgICAgICAgICAgICAgICAgICAgICAgICAgICAgICAgICAgICAgICAgICAgICAgICAgICAgICAgICAgICAgICAgICAKICAgICAgICAgICAgICAgICAgICAgICAgICAgICAgICAgICAgICAgICAgICAgICAgICAgICAgICAgICAgICAgICAgICAgICAgICAgICAgICAgICAgICAgICAgICAgICAgICAgIAogICAgICAgICAgICAgICAgICAgICAgICAgICAgICAgICAgICAgICAgICAgICAgICAgICAgICAgICAgICAgICAgICAgICAgICAgICAgICAgICAgICAgICAgICAgICAgICAgICAgCiAgICAgICAgICAgICAgICAgICAgICAgICAgICAgICAgICAgICAgICAgICAgICAgICAgICAgICAgICAgICAgICAgICAgICAgICAgICAgICAgICAgICAgICAgICAgICAgICAgICAKICAgICAgICAgICAgICAgICAgICAgICAgICAgICAgICAgICAgICAgICAgICAgICAgICAgICAgICAgICAgICAgICAgICAgICAgICAgICAgICAgICAgICAgICAgICAgICAgICAgIAogICAgICAgICAgICAgICAgICAgICAgICAgICAgICAgICAgICAgICAgICAgICAgICAgICAgICAgICAgICAgICAgICAgICAgICAgICAgICAgICAgICAgICAgICAgICAgICAgICAgCiAgICAgICAgICAgICAgICAgICAgICAgICAgICA8P3hwYWNrZXQgZW5kPSd3Jz8+/9sAQwAHBQUGBQQHBgUGCAcHCAoRCwoJCQoVDxAMERgVGhkYFRgXGx4nIRsdJR0XGCIuIiUoKSssKxogLzMvKjInKisq/9sAQwEHCAgKCQoUCwsUKhwYHCoqKioqKioqKioqKioqKioqKioqKioqKioqKioqKioqKioqKioqKioqKioqKioqKioq/8AAEQgANACGAwEiAAIRAQMRAf/EAB8AAAEFAQEBAQEBAAAAAAAAAAABAgMEBQYHCAkKC//EALUQAAIBAwMCBAMFBQQEAAABfQECAwAEEQUSITFBBhNRYQcicRQygZGhCCNCscEVUtHwJDNicoIJChYXGBkaJSYnKCkqNDU2Nzg5OkNERUZHSElKU1RVVldYWVpjZGVmZ2hpanN0dXZ3eHl6g4SFhoeIiYqSk5SVlpeYmZqio6Slpqeoqaqys7S1tre4ubrCw8TFxsfIycrS09TV1tfY2drh4uPk5ebn6Onq8fLz9PX29/j5+v/EAB8BAAMBAQEBAQEBAQEAAAAAAAABAgMEBQYHCAkKC//EALURAAIBAgQEAwQHBQQEAAECdwABAgMRBAUhMQYSQVEHYXETIjKBCBRCkaGxwQkjM1LwFWJy0QoWJDThJfEXGBkaJicoKSo1Njc4OTpDREVGR0hJSlNUVVZXWFlaY2RlZmdoaWpzdHV2d3h5eoKDhIWGh4iJipKTlJWWl5iZmqKjpKWmp6ipqrKztLW2t7i5usLDxMXGx8jJytLT1NXW19jZ2uLj5OXm5+jp6vLz9PX29/j5+v/aAAwDAQACEQMRAD8A8KooorUgKKKKACiiigAooooAKKKKACiiigAop4jcjIRiPUCm9OtACUUUUAFFFFABRRRQB1em6FoVh4etNZ8WzagU1FpFs7TTtgdljIVpHd8hRuyAMEnB6VU8TaDaabb6fqejXM1zpOqI7W7XCBZY2RtrxuASMjIORwQwNdv4u+HfiiXS/D2j6Pot1qEGlWJD3kQBjlkldpWCHPKqX2hu+Kp694Q1q0+D9s2uafNpc2hX0hVbgAC5juCgyp/vKyDK+hz2NAHmlFFFAGjoWi3XiHV006wMYneOWQGViFxHG0jcgHsp/Gs6vT/hfrehHxPYWg8KWy3i2dyHvhez7nK20hY7N20bgCOBxnjHFcVruraRqUcK6R4ct9GZCS7RXU0xkHYfvGOMe1AGLRXW+AvF2m+F9Rk/t7w9Ya5p8w+aO4tY3kjYDgozA49x0/GsTX9X/t3Wp79bGz09JD8lrZQLFHEvYAKBn6nk0AZteg/C/wAK6bql6+r+JIZZtMtZBGsMeP30mM4JyOAOT9RXn1ew/Cy6F94IuNItY2kure/NyyopJ2Oirn6Ap+oqJtqLaOjC04VK0Yz2Z7vJeaRol1aaJBp6QpchQkcMKrGATjkf/Wrx/wCM3gnRJjd3vh+xNnqNknm3UcKBYpk4JYAdGGc9Oea6u78Pqmp20dtftdWzY827RcrBzzkgkDA56isrxV5XhvR9cnkmN1aSWEltFc7flkeRNoAPIJBJ79jWEZy5j0p4ShGm5KV3Z+Wv9dD5xorrfAXxF1f4f6jJNp224tZxiazlY7HOOG46Eeo7cVia/r+o+Jtan1XWbhri6nOSx6KOyqOwHYV1HimbRRRQAUUUUAamga23h/U/ti6dp2o/IUMGo2wniOe+09CMdR/WqFzObq7luGSONpXZykSBEXJzhVHAHoB0qKigAooooAckjxNujdkbBGVODgjB/Sm0UUAFFFFABWnoHiDUvDOrxalo9w0FxH3HRh3UjuD6VmUUAewaV8dY7DQbjT5vDayPcg+Y8d2VUkjHQqT+tcF4o8a6p4oWG3umENjbEmC0jJ2IScknPJPua5yipUUtjSVWpNNSdwoooqjMKKKKACiiigAooooAKKKKACiiigAooooAKKKKACiiigAooooAKKKKAP/Z)\n",
        "\n",
        "  Dar click en nuevo repositorio. Allí se deberá asignar un nombre, además, hacer click en el checkbox para crear un archivo de tipo README.md, esto con el objetivo de que el repositorio no esté vacío y se cree automáticamente la rama master. Las demás opciones dejarlas igual y luego click en crear.\n",
        "\n",
        "3. Ahora, el otro integrante se debe unir al repositorio. Para esto, en el repositorio, ir a *Settings*, a la derecha de *Insights*, luego en la pestaña *Collaborators*, luego en *Add people* y escribir el nombre de usuario en Github del otro integrante. En la cuenta del invitado, le aparecerá una notificación de invitación, la cual debe aceptar.\n",
        "\n",
        "4. Ahora deben crear un nuevo archivo en colab vacío, en el cual deben estar ambos integrantes, es decir, un integrante lo crea y se lo comparte al otro. Sobre este archivo, deben escribir cualquier linea de código, por ejemplo: *print('Soy biomédico')*. \n",
        "\n",
        "5. Luego, deben subir una copia de este archivo nuevo a Github (solo un estudiante). Para eso, sobre el archivo en Colab, hacer click en *Archivo* y luego en *Guardar una copia en Github*. Instantáneamente se solicitarán permisos para acceder al repositorio, además de iniciar sesión. Concedidos, verificar que se trata del repositorio creado recientemente con la rama master, que tiene nombre por defecto *main*. Hacer click en aceptar. Se abrirá una pestaña con el respositorio actualizado con el archivo. \n",
        "\n",
        "6. Cuando se trabaja de forma colaborativa, lo primero es que cada desarrollador clone el repositorio a una rama individual para no afectar la principal. Para esto, cada integrante debe crear una rama cuyo nombre debe ser el apellido de cada integrante. Primero, hacer click en *Code*, luego en *branches*, posteriormente en *New branch*, asignarle un nombre y click en *Create branch*.\n",
        "\n",
        "7. Ahora, cada integrante debe realizar un cambio sobre el código y sobre la misma linea de código, puede ser añadir una linea que imprima una frase cualquiera. La idea es que un integrante agregue una linea de código, y haga un commit a Github sobre su propia rama con su respectivo mensaje. Luego, el otro integrante debe debe modificar la misma linea de código y hacer el commit pero a su propia rama con un mensaje respectivo. Para realizar dicho commit, subir de nuevo una copia a Github pero ahora, donde dice *Mensaje de confirmación* escribir *Este cambio fue hecho por (Apellido)*.\n",
        "\n",
        "8. Notar que saldrá una notificación de que se realizaron modificaciones sobre una rama. La idea es ahora actualizar la rama principal con los cambios individuales. Para esto hay que hacer un *pull*. Hacer click en *pull request*, luego *New pull request*, seleccionar la rama correspondiente a cada integrante y luego click en *Create pull request* y de nuevo en *Create pull request*. Esto lo deben hacer ambos integrantes.\n",
        "\n",
        "9. Se recibirá una notificación de solicitud para realizar un merge con la rama principal. Ir de nuevo a *Pull request* y luego seleccionar el commit respectivo de cada integrante. Notar que la plataforma detecta automáticamente si hay conflictos, para el caso del primer merge no debería haber debido a que la rama principal no se ha modificado anteriorente. Sin embargo, para el siguiente merge del segundo integrante, se van a presentar conflictos. Primero, el primer integante debe hacer click en *Merge pull requets* y luego en *Confirm merge*. Ahora, le segundo integrante al seguir los mismos pasos deberá solucionar los conclictos. La plataforma los mostrará en rojo y se deben borrar. Una vez solucionados se debe marcar como solucionados y ahora sí podrá realizar el merge. Notar que cuando hay una solicitud de pull, es posible comentarla para ofrecerle al desarrollador quien hizo la solicitd una retroalimentación para que solucione los conflictos o realice modificacioens pertinentes.\n",
        "\n",
        "10. Finalmente, dado que la rama principal se modificó, se debe agregar un tag para indicar que es una versión más actualizada. Para eso, hacer click en *tags*, al a derecha de *branches*, luego en *Create a new release*, allí se debe asignar un nombre, al cual se asigna Version 2.0, además, hacer click en la pestaña desplegable *Choose a tag*, darle un nombre al tag como V2.0 y luego click en *+ Create a new tag*. Finalmente, click en *Publish release*.\n",
        "\n",
        "11. Compartir el link del repositorio en el siguiente cuadro de texto."
      ]
    },
    {
      "cell_type": "markdown",
      "metadata": {
        "id": "g7rh33pfXmr7"
      },
      "source": [
        "**Poner el link del reposotorio en Github acá**"
      ]
    },
    {
      "attachments": {},
      "cell_type": "markdown",
      "metadata": {},
      "source": [
        "https://github.com/TaniaBer2/Scientific-computing-labs"
      ]
    },
    {
      "cell_type": "markdown",
      "metadata": {
        "id": "RBEA5snUq3A7"
      },
      "source": [
        "# **Rúbrica de calificación**\n",
        "\n",
        "1. En ChatGPT se logró diseñar una trivia con los parámetros solicitados.\n",
        "2. En Github se clonó correctamente el respositorio en las respectivas ramas.\n",
        "3. Se realizaron los pull y merge satisfactoriamente, solucionando los conflictos.\n",
        "4. Se asignó un tag de versión actualizada en la rama correcta.\n",
        "5. Todos los commits fueron hechos correctamente."
      ]
    }
  ],
  "metadata": {
    "colab": {
      "provenance": [],
      "toc_visible": true
    },
    "kernelspec": {
      "display_name": "Python 3",
      "language": "python",
      "name": "python3"
    },
    "language_info": {
      "codemirror_mode": {
        "name": "ipython",
        "version": 3
      },
      "file_extension": ".py",
      "mimetype": "text/x-python",
      "name": "python",
      "nbconvert_exporter": "python",
      "pygments_lexer": "ipython3",
      "version": "3.10.9"
    },
    "vscode": {
      "interpreter": {
        "hash": "e7370f93d1d0cde622a1f8e1c04877d8463912d04d973331ad4851f04de6915a"
      }
    }
  },
  "nbformat": 4,
  "nbformat_minor": 0
}
