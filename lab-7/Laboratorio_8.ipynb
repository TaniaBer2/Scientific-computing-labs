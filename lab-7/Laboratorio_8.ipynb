{
  "cells": [
    {
      "cell_type": "markdown",
      "metadata": {
        "id": "cl_j2KwtVuYT"
      },
      "source": [
        "# Laboratorio 8: Implementación algoritmo de regresión lineal\n",
        "**Facultad de ingeniería, departamento de Ingeniería Biomédica, Universidad de los Andes**\\\n",
        "**IBIO-2440 Programación científica**"
      ]
    },
    {
      "cell_type": "markdown",
      "metadata": {
        "id": "dmnIao0gV6XJ"
      },
      "source": [
        "**Nombres de los integrantes**\n",
        "\n",
        "\n",
        "1.   Nombre integrante 1\n",
        "2.   Nombre integrante 2\n",
        "\n",
        "**Número del grupo**\n",
        "\n",
        "*Escribir el número del grupo*"
      ]
    },
    {
      "cell_type": "markdown",
      "metadata": {
        "id": "pkVvrCyYV-c2"
      },
      "source": [
        "# **Regresión lineal**\n",
        "\n",
        "Considere el conjunto de puntos:\\\n",
        " $(x^{(1)},y^{(1)}), (x^{(2)},y^{(2)}), ... , (x^{(m)},y^{(m)})$,\n",
        "\n",
        "donde se asume que se relacionan a través de la ecuación:\n",
        "\\begin{align*}\n",
        "  y^{(i)} \\approx β_{1} + &x^{(i)}β_{2}\\\\\n",
        " \\end{align*}\n",
        "Encontrar $\\beta=[\\beta_1,\\beta_1]^T$ se resuelve a través de la solución del problema de mínimos cuadrados:\n",
        "\\begin{align*}\n",
        "  \\min_\\beta ||y-H\\beta||_2^2,\n",
        " \\end{align*}\n",
        "donde $y$ y $H$ se contruyen a partir de los datos como se vio en clase. La solución analítica de este problema tiene la forma:\n",
        "\\begin{align*}\n",
        "  \\beta^* =  (H^TH)^{-1}H^Ty\n",
        " \\end{align*}\n",
        " \n",
        "Ahora, sigua los siguientes pasos:\n",
        "\n",
        "1. Teniendo en cuenta los datos anexados en la actividad en archivo excel, use la libreria *pandas* para procesarlos y trabajar con ellos. La primera columna corresponde a los valores de $x$ y la segunda a los valores de $y$.\n"
      ]
    },
    {
      "cell_type": "code",
      "execution_count": 70,
      "metadata": {
        "id": "97J2a5gp2aXH"
      },
      "outputs": [
        {
          "name": "stdout",
          "output_type": "stream",
          "text": [
            "        x          y\n",
            "0     0.0   3.191590\n",
            "1     0.1  -1.735428\n",
            "2     0.2  -0.347611\n",
            "3     0.3  -0.626006\n",
            "4     0.4   1.867975\n",
            "..    ...        ...\n",
            "96    9.6  43.227739\n",
            "97    9.7  43.686057\n",
            "98    9.8  48.793988\n",
            "99    9.9  52.387736\n",
            "100  10.0  52.806588\n",
            "\n",
            "[101 rows x 2 columns]\n"
          ]
        }
      ],
      "source": [
        "import pandas as pd\n",
        "import numpy as np\n",
        "import plotly.express as px\n",
        "data = pd.read_excel(\"data.xlsx\")\n",
        "print(data)"
      ]
    },
    {
      "cell_type": "markdown",
      "metadata": {
        "id": "Jq9uexuhWDeY"
      },
      "source": [
        "2. Construya la matriz $H$ y el vector $y$."
      ]
    },
    {
      "cell_type": "code",
      "execution_count": 71,
      "metadata": {
        "id": "5XGM9zbo4JEK"
      },
      "outputs": [
        {
          "name": "stdout",
          "output_type": "stream",
          "text": [
            "[[ 1.   0. ]\n",
            " [ 1.   0.1]\n",
            " [ 1.   0.2]\n",
            " [ 1.   0.3]\n",
            " [ 1.   0.4]\n",
            " [ 1.   0.5]\n",
            " [ 1.   0.6]\n",
            " [ 1.   0.7]\n",
            " [ 1.   0.8]\n",
            " [ 1.   0.9]\n",
            " [ 1.   1. ]\n",
            " [ 1.   1.1]\n",
            " [ 1.   1.2]\n",
            " [ 1.   1.3]\n",
            " [ 1.   1.4]\n",
            " [ 1.   1.5]\n",
            " [ 1.   1.6]\n",
            " [ 1.   1.7]\n",
            " [ 1.   1.8]\n",
            " [ 1.   1.9]\n",
            " [ 1.   2. ]\n",
            " [ 1.   2.1]\n",
            " [ 1.   2.2]\n",
            " [ 1.   2.3]\n",
            " [ 1.   2.4]\n",
            " [ 1.   2.5]\n",
            " [ 1.   2.6]\n",
            " [ 1.   2.7]\n",
            " [ 1.   2.8]\n",
            " [ 1.   2.9]\n",
            " [ 1.   3. ]\n",
            " [ 1.   3.1]\n",
            " [ 1.   3.2]\n",
            " [ 1.   3.3]\n",
            " [ 1.   3.4]\n",
            " [ 1.   3.5]\n",
            " [ 1.   3.6]\n",
            " [ 1.   3.7]\n",
            " [ 1.   3.8]\n",
            " [ 1.   3.9]\n",
            " [ 1.   4. ]\n",
            " [ 1.   4.1]\n",
            " [ 1.   4.2]\n",
            " [ 1.   4.3]\n",
            " [ 1.   4.4]\n",
            " [ 1.   4.5]\n",
            " [ 1.   4.6]\n",
            " [ 1.   4.7]\n",
            " [ 1.   4.8]\n",
            " [ 1.   4.9]\n",
            " [ 1.   5. ]\n",
            " [ 1.   5.1]\n",
            " [ 1.   5.2]\n",
            " [ 1.   5.3]\n",
            " [ 1.   5.4]\n",
            " [ 1.   5.5]\n",
            " [ 1.   5.6]\n",
            " [ 1.   5.7]\n",
            " [ 1.   5.8]\n",
            " [ 1.   5.9]\n",
            " [ 1.   6. ]\n",
            " [ 1.   6.1]\n",
            " [ 1.   6.2]\n",
            " [ 1.   6.3]\n",
            " [ 1.   6.4]\n",
            " [ 1.   6.5]\n",
            " [ 1.   6.6]\n",
            " [ 1.   6.7]\n",
            " [ 1.   6.8]\n",
            " [ 1.   6.9]\n",
            " [ 1.   7. ]\n",
            " [ 1.   7.1]\n",
            " [ 1.   7.2]\n",
            " [ 1.   7.3]\n",
            " [ 1.   7.4]\n",
            " [ 1.   7.5]\n",
            " [ 1.   7.6]\n",
            " [ 1.   7.7]\n",
            " [ 1.   7.8]\n",
            " [ 1.   7.9]\n",
            " [ 1.   8. ]\n",
            " [ 1.   8.1]\n",
            " [ 1.   8.2]\n",
            " [ 1.   8.3]\n",
            " [ 1.   8.4]\n",
            " [ 1.   8.5]\n",
            " [ 1.   8.6]\n",
            " [ 1.   8.7]\n",
            " [ 1.   8.8]\n",
            " [ 1.   8.9]\n",
            " [ 1.   9. ]\n",
            " [ 1.   9.1]\n",
            " [ 1.   9.2]\n",
            " [ 1.   9.3]\n",
            " [ 1.   9.4]\n",
            " [ 1.   9.5]\n",
            " [ 1.   9.6]\n",
            " [ 1.   9.7]\n",
            " [ 1.   9.8]\n",
            " [ 1.   9.9]\n",
            " [ 1.  10. ]]\n",
            "[[ 1.   1.   1.   1.   1.   1.   1.   1.   1.   1.   1.   1.   1.   1.\n",
            "   1.   1.   1.   1.   1.   1.   1.   1.   1.   1.   1.   1.   1.   1.\n",
            "   1.   1.   1.   1.   1.   1.   1.   1.   1.   1.   1.   1.   1.   1.\n",
            "   1.   1.   1.   1.   1.   1.   1.   1.   1.   1.   1.   1.   1.   1.\n",
            "   1.   1.   1.   1.   1.   1.   1.   1.   1.   1.   1.   1.   1.   1.\n",
            "   1.   1.   1.   1.   1.   1.   1.   1.   1.   1.   1.   1.   1.   1.\n",
            "   1.   1.   1.   1.   1.   1.   1.   1.   1.   1.   1.   1.   1.   1.\n",
            "   1.   1.   1. ]\n",
            " [ 0.   0.1  0.2  0.3  0.4  0.5  0.6  0.7  0.8  0.9  1.   1.1  1.2  1.3\n",
            "   1.4  1.5  1.6  1.7  1.8  1.9  2.   2.1  2.2  2.3  2.4  2.5  2.6  2.7\n",
            "   2.8  2.9  3.   3.1  3.2  3.3  3.4  3.5  3.6  3.7  3.8  3.9  4.   4.1\n",
            "   4.2  4.3  4.4  4.5  4.6  4.7  4.8  4.9  5.   5.1  5.2  5.3  5.4  5.5\n",
            "   5.6  5.7  5.8  5.9  6.   6.1  6.2  6.3  6.4  6.5  6.6  6.7  6.8  6.9\n",
            "   7.   7.1  7.2  7.3  7.4  7.5  7.6  7.7  7.8  7.9  8.   8.1  8.2  8.3\n",
            "   8.4  8.5  8.6  8.7  8.8  8.9  9.   9.1  9.2  9.3  9.4  9.5  9.6  9.7\n",
            "   9.8  9.9 10. ]]\n",
            "[ 0.   0.1  0.2  0.3  0.4  0.5  0.6  0.7  0.8  0.9  1.   1.1  1.2  1.3\n",
            "  1.4  1.5  1.6  1.7  1.8  1.9  2.   2.1  2.2  2.3  2.4  2.5  2.6  2.7\n",
            "  2.8  2.9  3.   3.1  3.2  3.3  3.4  3.5  3.6  3.7  3.8  3.9  4.   4.1\n",
            "  4.2  4.3  4.4  4.5  4.6  4.7  4.8  4.9  5.   5.1  5.2  5.3  5.4  5.5\n",
            "  5.6  5.7  5.8  5.9  6.   6.1  6.2  6.3  6.4  6.5  6.6  6.7  6.8  6.9\n",
            "  7.   7.1  7.2  7.3  7.4  7.5  7.6  7.7  7.8  7.9  8.   8.1  8.2  8.3\n",
            "  8.4  8.5  8.6  8.7  8.8  8.9  9.   9.1  9.2  9.3  9.4  9.5  9.6  9.7\n",
            "  9.8  9.9 10. ]\n",
            "[ 3.1915897  -1.73542758 -0.3476111  -0.62600553  1.86797521  3.06827687\n",
            " 11.71071565 -1.87137956  1.27207351  6.48251244  5.23864879  1.24437971\n",
            "  8.09186926 14.56655398 -1.28099555  6.81752938  0.18516003 10.26475231\n",
            " 10.28621161 15.36115801  5.16180544 12.74723485 10.67947734 19.21963044\n",
            " 15.71672189 10.07758332 10.44372596  9.07436205 23.55056291 10.9640198\n",
            "  8.66812156 13.22594113 21.33258186 21.1180002  21.51784346  8.12451575\n",
            " 15.98691203 27.02991239 15.86689656 21.94165846 16.45590365 13.50028763\n",
            " 19.26711337 28.35375488 32.12351408 30.23979671 15.17641764 20.75423981\n",
            " 19.22258333 21.35610776 35.18896811 26.96501783 31.48502519 33.83703469\n",
            " 20.83779414 36.06195219 20.60248256 33.90186193 34.08743876 34.34939204\n",
            " 23.16863535 29.91577999 31.67574462 32.60980582 39.69434087 36.55449821\n",
            " 39.61676518 34.62485739 43.61791677 26.33353889 36.33036055 31.63320687\n",
            " 36.11800673 40.69727563 31.66516778 40.16321977 35.02352345 46.61694405\n",
            " 32.16789227 32.0481558  49.68233806 34.05803999 34.55076162 35.11105176\n",
            " 34.29138806 42.08849123 46.87791386 50.62603364 50.30470274 49.25421836\n",
            " 44.9519501  50.17176305 55.66118962 47.11551125 43.60106231 53.79622368\n",
            " 43.22773927 43.68605667 48.79398797 52.38773602 52.806588  ]\n"
          ]
        }
      ],
      "source": [
        "col_x = np.array(data[\"x\"].values.tolist())\n",
        "Ht = np.array([[1]*101,col_x])\n",
        "H = Ht.transpose()\n",
        "y = np.array(data[\"y\"].values.tolist())\n",
        "print(H)\n",
        "print(Ht)\n",
        "print(col_x)\n",
        "print(y)"
      ]
    },
    {
      "cell_type": "markdown",
      "metadata": {
        "id": "YIbtDrJU4JN3"
      },
      "source": [
        "3. Encuentre los valores de $\\beta^*$."
      ]
    },
    {
      "cell_type": "code",
      "execution_count": 72,
      "metadata": {
        "id": "tg_nSj4B4Ps3"
      },
      "outputs": [
        {
          "name": "stdout",
          "output_type": "stream",
          "text": [
            "[0.07893785 5.09970266]\n"
          ]
        }
      ],
      "source": [
        "beta =(np.dot(Ht,H))\n",
        "beta = np.linalg.inv(beta)\n",
        "beta = np.dot(beta, Ht)\n",
        "beta = np.dot(beta, y)\n",
        "print(beta)"
      ]
    },
    {
      "cell_type": "markdown",
      "metadata": {
        "id": "2h2rqn-k4QQh"
      },
      "source": [
        "4. Grafique la recta obtenida junto a los datos anexados."
      ]
    },
    {
      "cell_type": "code",
      "execution_count": 73,
      "metadata": {
        "id": "j3OB9g-464Dh"
      },
      "outputs": [],
      "source": [
        "fig = px.scatter(data, x=\"x\",y=\"y\")\n",
        "fig.show()"
      ]
    },
    {
      "cell_type": "markdown",
      "metadata": {
        "id": "rMRjXkcE5H8B"
      },
      "source": [
        "5. Con los coeficientes hallados, se desea comparar el error con otras dos parejas de coeficientes:\n",
        "\n",
        " - $\\beta_a=[\\beta_1^*+5, \\beta_2^*-1]^T$\n",
        " - $\\beta_b=[\\beta_1^*-5, \\beta_2^*+1]^T$.\n",
        "\n",
        "Determine el valor de:\n",
        "\n",
        "  \\begin{align*}\n",
        "  ||y-H\\beta||_2^2\n",
        " \\end{align*}\n",
        "\n",
        "para $\\beta^*$, $\\beta_a$, y $\\beta_b$. Aquí los valores de $y$ y $H$ son los mismos para todos ya que los datos no cambian. Explique los resultados obtenidos. "
      ]
    },
    {
      "cell_type": "code",
      "execution_count": 74,
      "metadata": {
        "id": "9qhW5uQmDQl4"
      },
      "outputs": [
        {
          "name": "stdout",
          "output_type": "stream",
          "text": [
            "[5.07893785 4.09970266]\n",
            "[-4.92106215  6.09970266]\n",
            "2905.840606119537\n",
            "3764.3406061195483\n",
            "3764.3406061195255\n"
          ]
        }
      ],
      "source": [
        "Ba = np.array([beta[0]+5, beta[1]-1]).transpose()\n",
        "Bb = np.array([beta[0]-5, beta[1]+1]).transpose()\n",
        "print(Ba)\n",
        "print(Bb)\n",
        "\n",
        "errorbeta = np.linalg.norm(y-np.dot(H,beta), ord=2)**2\n",
        "print(errorbeta)\n",
        "\n",
        "errorbeta_a = np.linalg.norm(y-np.dot(H,Ba), ord=2)**2\n",
        "print(errorbeta_a)\n",
        "\n",
        "errorbeta_b = np.linalg.norm(y-np.dot(H,Bb), ord=2)**2\n",
        "print(errorbeta_b)"
      ]
    },
    {
      "cell_type": "markdown",
      "metadata": {
        "id": "rFZquyhmDPxt"
      },
      "source": [
        "6. Grafique el las tres rectas (es decir, las obtenidas por $\\beta^*$, $\\beta_a$, y $\\beta_b$)  junto a los datos anexados. En un scatter plot pinte los datos en el archivo, y pinte las tres rectas traslapadas con tres colores diferentes. Interprete los resultados obtenidos."
      ]
    },
    {
      "cell_type": "code",
      "execution_count": null,
      "metadata": {
        "id": "OwmmTa6tDXZn"
      },
      "outputs": [],
      "source": []
    }
  ],
  "metadata": {
    "colab": {
      "provenance": []
    },
    "kernelspec": {
      "display_name": "Python 3",
      "name": "python3"
    },
    "language_info": {
      "codemirror_mode": {
        "name": "ipython",
        "version": 3
      },
      "file_extension": ".py",
      "mimetype": "text/x-python",
      "name": "python",
      "nbconvert_exporter": "python",
      "pygments_lexer": "ipython3",
      "version": "3.10.7"
    }
  },
  "nbformat": 4,
  "nbformat_minor": 0
}
