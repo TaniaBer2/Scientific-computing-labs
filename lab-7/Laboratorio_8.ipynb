{
  "cells": [
    {
      "cell_type": "markdown",
      "metadata": {
        "id": "cl_j2KwtVuYT"
      },
      "source": [
        "# Laboratorio 8: Implementación algoritmo de regresión lineal\n",
        "**Facultad de ingeniería, departamento de Ingeniería Biomédica, Universidad de los Andes**\\\n",
        "**IBIO-2440 Programación científica**"
      ]
    },
    {
      "cell_type": "markdown",
      "metadata": {
        "id": "dmnIao0gV6XJ"
      },
      "source": [
        "**Nombres de los integrantes**\n",
        "\n",
        "\n",
        "1.   Nombre integrante 1\n",
        "2.   Nombre integrante 2\n",
        "\n",
        "**Número del grupo**\n",
        "\n",
        "*Escribir el número del grupo*"
      ]
    },
    {
      "cell_type": "markdown",
      "metadata": {
        "id": "pkVvrCyYV-c2"
      },
      "source": [
        "# **Regresión lineal**\n",
        "\n",
        "Considere el conjunto de puntos:\\\n",
        " $(x^{(1)},y^{(1)}), (x^{(2)},y^{(2)}), ... , (x^{(m)},y^{(m)})$,\n",
        "\n",
        "donde se asume que se relacionan a través de la ecuación:\n",
        "\\begin{align*}\n",
        "  y^{(i)} \\approx β_{1} + &x^{(i)}β_{2}\\\\\n",
        " \\end{align*}\n",
        "Encontrar $\\beta=[\\beta_1,\\beta_1]^T$ se resuelve a través de la solución del problema de mínimos cuadrados:\n",
        "\\begin{align*}\n",
        "  \\min_\\beta ||y-H\\beta||_2^2,\n",
        " \\end{align*}\n",
        "donde $y$ y $H$ se contruyen a partir de los datos como se vio en clase. La solución analítica de este problema tiene la forma:\n",
        "\\begin{align*}\n",
        "  \\beta^* =  (H^TH)^{-1}H^Ty\n",
        " \\end{align*}\n",
        " \n",
        "Ahora, sigua los siguientes pasos:\n",
        "\n",
        "1. Teniendo en cuenta los datos anexados en la actividad en archivo excel, use la libreria *pandas* para procesarlos y trabajar con ellos. La primera columna corresponde a los valores de $x$ y la segunda a los valores de $y$.\n"
      ]
    },
    {
      "cell_type": "code",
      "execution_count": 5,
      "metadata": {
        "id": "97J2a5gp2aXH"
      },
      "outputs": [
        {
          "name": "stdout",
          "output_type": "stream",
          "text": [
            "    0.00000    3.19159\n",
            "0       0.1  -1.735428\n",
            "1       0.2  -0.347611\n",
            "2       0.3  -0.626006\n",
            "3       0.4   1.867975\n",
            "4       0.5   3.068277\n",
            "..      ...        ...\n",
            "95      9.6  43.227739\n",
            "96      9.7  43.686057\n",
            "97      9.8  48.793988\n",
            "98      9.9  52.387736\n",
            "99     10.0  52.806588\n",
            "\n",
            "[100 rows x 2 columns]\n"
          ]
        }
      ],
      "source": [
        "import pandas as pd\n",
        "import numpy as np\n",
        "data = pd.read_excel(\"data.xlsx\")\n",
        "print(data)"
      ]
    },
    {
      "cell_type": "markdown",
      "metadata": {
        "id": "Jq9uexuhWDeY"
      },
      "source": [
        "2. Construya la matriz $H$ y el vector $y$."
      ]
    },
    {
      "cell_type": "code",
      "execution_count": null,
      "metadata": {
        "id": "5XGM9zbo4JEK"
      },
      "outputs": [],
      "source": []
    },
    {
      "cell_type": "markdown",
      "metadata": {
        "id": "YIbtDrJU4JN3"
      },
      "source": [
        "3. Encuentre los valores de $\\beta^*$."
      ]
    },
    {
      "cell_type": "code",
      "execution_count": null,
      "metadata": {
        "id": "tg_nSj4B4Ps3"
      },
      "outputs": [],
      "source": []
    },
    {
      "cell_type": "markdown",
      "metadata": {
        "id": "2h2rqn-k4QQh"
      },
      "source": [
        "4. Grafique la recta obtenida junto a los datos anexados."
      ]
    },
    {
      "cell_type": "code",
      "execution_count": null,
      "metadata": {
        "id": "j3OB9g-464Dh"
      },
      "outputs": [],
      "source": []
    },
    {
      "cell_type": "markdown",
      "metadata": {
        "id": "rMRjXkcE5H8B"
      },
      "source": [
        "5. Con los coeficientes hallados, se desea comparar el error con otras dos parejas de coeficientes:\n",
        "\n",
        " - $\\beta_a=[\\beta_1^*+5, \\beta_2^*-1]^T$\n",
        " - $\\beta_b=[\\beta_1^*-5, \\beta_2^*+1]^T$.\n",
        "\n",
        "Determine el valor de:\n",
        "\n",
        "  \\begin{align*}\n",
        "  ||y-H\\beta||_2^2\n",
        " \\end{align*}\n",
        "\n",
        "para $\\beta^*$, $\\beta_a$, y $\\beta_b$. Aquí los valores de $y$ y $H$ son los mismos para todos ya que los datos no cambian. Explique los resultados obtenidos. "
      ]
    },
    {
      "cell_type": "code",
      "execution_count": null,
      "metadata": {
        "id": "9qhW5uQmDQl4"
      },
      "outputs": [],
      "source": []
    },
    {
      "cell_type": "markdown",
      "metadata": {
        "id": "rFZquyhmDPxt"
      },
      "source": [
        "6. Grafique el las tres rectas (es decir, las obtenidas por $\\beta^*$, $\\beta_a$, y $\\beta_b$)  junto a los datos anexados. En un scatter plot pinte los datos en el archivo, y pinte las tres rectas traslapadas con tres colores diferentes. Interprete los resultados obtenidos."
      ]
    },
    {
      "cell_type": "code",
      "execution_count": null,
      "metadata": {
        "id": "OwmmTa6tDXZn"
      },
      "outputs": [],
      "source": []
    }
  ],
  "metadata": {
    "colab": {
      "provenance": []
    },
    "kernelspec": {
      "display_name": "Python 3",
      "name": "python3"
    },
    "language_info": {
      "codemirror_mode": {
        "name": "ipython",
        "version": 3
      },
      "file_extension": ".py",
      "mimetype": "text/x-python",
      "name": "python",
      "nbconvert_exporter": "python",
      "pygments_lexer": "ipython3",
      "version": "3.10.7"
    }
  },
  "nbformat": 4,
  "nbformat_minor": 0
}
